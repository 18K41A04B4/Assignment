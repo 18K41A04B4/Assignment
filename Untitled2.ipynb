{
  "nbformat": 4,
  "nbformat_minor": 0,
  "metadata": {
    "colab": {
      "name": "Untitled2.ipynb",
      "provenance": [],
      "authorship_tag": "ABX9TyNMc+hb8fjuH9vC//0ibSyg",
      "include_colab_link": true
    },
    "kernelspec": {
      "name": "python3",
      "display_name": "Python 3"
    }
  },
  "cells": [
    {
      "cell_type": "markdown",
      "metadata": {
        "id": "view-in-github",
        "colab_type": "text"
      },
      "source": [
        "<a href=\"https://colab.research.google.com/github/18K41A04B4/Assignment/blob/master/Untitled2.ipynb\" target=\"_parent\"><img src=\"https://colab.research.google.com/assets/colab-badge.svg\" alt=\"Open In Colab\"/></a>"
      ]
    },
    {
      "cell_type": "markdown",
      "metadata": {
        "id": "r-3m5b_f8yJb",
        "colab_type": "text"
      },
      "source": [
        "1.Area of triangle."
      ]
    },
    {
      "cell_type": "code",
      "metadata": {
        "id": "dBLZM7rj9aiK",
        "colab_type": "code",
        "colab": {
          "base_uri": "https://localhost:8080/",
          "height": 84
        },
        "outputId": "6696c337-e37e-45d7-cf60-45fea001c227"
      },
      "source": [
        "a=float(input(\"enter first side: \"))\n",
        "b=float(input(\"enter second side: \"))\n",
        "c=float(input(\"enter third side: \"))\n",
        "s=(a+b+c)/2\n",
        "area=(s*(s-a)*(s-b)*(s-c)) ** (1/2)\n",
        "print(\"area of the triangle =\",area)"
      ],
      "execution_count": 5,
      "outputs": [
        {
          "output_type": "stream",
          "text": [
            "enter first side: 5.0\n",
            "enter second side: 6.0\n",
            "enter third side: 7.0\n",
            "area of the triangle = 14.696938456699069\n"
          ],
          "name": "stdout"
        }
      ]
    },
    {
      "cell_type": "markdown",
      "metadata": {
        "id": "Xr8cuKYjAP9V",
        "colab_type": "text"
      },
      "source": [
        "2.palindrome or not.\n"
      ]
    },
    {
      "cell_type": "code",
      "metadata": {
        "id": "GJ46d676AXN2",
        "colab_type": "code",
        "colab": {
          "base_uri": "https://localhost:8080/",
          "height": 50
        },
        "outputId": "22f99436-f147-4d3f-ce98-c6982605c1d0"
      },
      "source": [
        "word = input(\"enter word: \")\n",
        "if word==word[::-1]:\n",
        "  print(word,\"is palindrome\")\n",
        "else:\n",
        "  print(word,\"is not palindrome\")\n",
        " "
      ],
      "execution_count": 10,
      "outputs": [
        {
          "output_type": "stream",
          "text": [
            "enter word: malayalam\n",
            "malayalam is palindrome\n"
          ],
          "name": "stdout"
        }
      ]
    },
    {
      "cell_type": "markdown",
      "metadata": {
        "id": "ZlSfH3L-DrUB",
        "colab_type": "text"
      },
      "source": [
        "3.leap year or not.\n"
      ]
    },
    {
      "cell_type": "code",
      "metadata": {
        "id": "bCQxP-ggEC3n",
        "colab_type": "code",
        "colab": {
          "base_uri": "https://localhost:8080/",
          "height": 50
        },
        "outputId": "ebaa5bae-6709-4649-b85a-2f7df0475041"
      },
      "source": [
        "year=int(input(\"enter year: \"))\n",
        "if (year%4==0):\n",
        "  if (year%100==0):\n",
        "    if(year%400==0):\n",
        "      print(year,\"is leap year\")\n",
        "    else:\n",
        "      print(year,\"is not a leap year\")\n",
        "  else:\n",
        "     print(year,\"is leap year\")\n",
        "else:\n",
        "  print(year,\"is not a leap year\")   "
      ],
      "execution_count": 16,
      "outputs": [
        {
          "output_type": "stream",
          "text": [
            "enter year: 1900\n",
            "1900 is not a leap year\n"
          ],
          "name": "stdout"
        }
      ]
    },
    {
      "cell_type": "markdown",
      "metadata": {
        "id": "gZm0vsTHKrDk",
        "colab_type": "text"
      },
      "source": [
        "4.space to hyphen problem."
      ]
    }
  ]
}