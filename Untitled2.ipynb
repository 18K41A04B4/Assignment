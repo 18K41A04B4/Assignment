{
  "nbformat": 4,
  "nbformat_minor": 0,
  "metadata": {
    "colab": {
      "name": "Untitled2.ipynb",
      "provenance": [],
      "authorship_tag": "ABX9TyPbGSWmzbuwtfnPd/ukaoAg",
      "include_colab_link": true
    },
    "kernelspec": {
      "name": "python3",
      "display_name": "Python 3"
    }
  },
  "cells": [
    {
      "cell_type": "markdown",
      "metadata": {
        "id": "view-in-github",
        "colab_type": "text"
      },
      "source": [
        "<a href=\"https://colab.research.google.com/github/18K41A04B4/Assignment/blob/master/Untitled2.ipynb\" target=\"_parent\"><img src=\"https://colab.research.google.com/assets/colab-badge.svg\" alt=\"Open In Colab\"/></a>"
      ]
    },
    {
      "cell_type": "markdown",
      "metadata": {
        "id": "r-3m5b_f8yJb",
        "colab_type": "text"
      },
      "source": [
        "1.Area of triangle."
      ]
    },
    {
      "cell_type": "code",
      "metadata": {
        "id": "dBLZM7rj9aiK",
        "colab_type": "code",
        "colab": {
          "base_uri": "https://localhost:8080/",
          "height": 84
        },
        "outputId": "6696c337-e37e-45d7-cf60-45fea001c227"
      },
      "source": [
        "a=float(input(\"enter first side: \"))\n",
        "b=float(input(\"enter second side: \"))\n",
        "c=float(input(\"enter third side: \"))\n",
        "s=(a+b+c)/2\n",
        "area=(s*(s-a)*(s-b)*(s-c)) ** (1/2)\n",
        "print(\"area of the triangle =\",area)"
      ],
      "execution_count": null,
      "outputs": [
        {
          "output_type": "stream",
          "text": [
            "enter first side: 5.0\n",
            "enter second side: 6.0\n",
            "enter third side: 7.0\n",
            "area of the triangle = 14.696938456699069\n"
          ],
          "name": "stdout"
        }
      ]
    },
    {
      "cell_type": "markdown",
      "metadata": {
        "id": "Xr8cuKYjAP9V",
        "colab_type": "text"
      },
      "source": [
        "2.palindrome or not.\n"
      ]
    },
    {
      "cell_type": "code",
      "metadata": {
        "id": "GJ46d676AXN2",
        "colab_type": "code",
        "colab": {
          "base_uri": "https://localhost:8080/",
          "height": 50
        },
        "outputId": "22f99436-f147-4d3f-ce98-c6982605c1d0"
      },
      "source": [
        "word = input(\"enter word: \")\n",
        "if word==word[::-1]:\n",
        "  print(word,\"is palindrome\")\n",
        "else:\n",
        "  print(word,\"is not palindrome\")\n",
        " "
      ],
      "execution_count": null,
      "outputs": [
        {
          "output_type": "stream",
          "text": [
            "enter word: malayalam\n",
            "malayalam is palindrome\n"
          ],
          "name": "stdout"
        }
      ]
    },
    {
      "cell_type": "markdown",
      "metadata": {
        "id": "ZlSfH3L-DrUB",
        "colab_type": "text"
      },
      "source": [
        "3.leap year or not.\n"
      ]
    },
    {
      "cell_type": "code",
      "metadata": {
        "id": "bCQxP-ggEC3n",
        "colab_type": "code",
        "colab": {
          "base_uri": "https://localhost:8080/",
          "height": 50
        },
        "outputId": "ebaa5bae-6709-4649-b85a-2f7df0475041"
      },
      "source": [
        "year=int(input(\"enter year: \"))\n",
        "if (year%4==0):\n",
        "  if (year%100==0):\n",
        "    if(year%400==0):\n",
        "      print(year,\"is leap year\")\n",
        "    else:\n",
        "      print(year,\"is not a leap year\")\n",
        "  else:\n",
        "     print(year,\"is leap year\")\n",
        "else:\n",
        "  print(year,\"is not a leap year\")   "
      ],
      "execution_count": null,
      "outputs": [
        {
          "output_type": "stream",
          "text": [
            "enter year: 1900\n",
            "1900 is not a leap year\n"
          ],
          "name": "stdout"
        }
      ]
    },
    {
      "cell_type": "markdown",
      "metadata": {
        "id": "gZm0vsTHKrDk",
        "colab_type": "text"
      },
      "source": [
        "4.space to hyphen problem."
      ]
    },
    {
      "cell_type": "code",
      "metadata": {
        "id": "KRjkjBD3O1Td",
        "colab_type": "code",
        "colab": {
          "base_uri": "https://localhost:8080/",
          "height": 50
        },
        "outputId": "82214904-a5e9-4ce7-c5d1-90c594fd7752"
      },
      "source": [
        "str1=input(\"enter sentence: \")\n",
        "str2=str1.replace(' ','-')\n",
        "print(str2)\n"
      ],
      "execution_count": null,
      "outputs": [
        {
          "output_type": "stream",
          "text": [
            "enter sentence: This program converts spaces into hyphen\n",
            "This-program-converts-spaces-into-hyphen\n"
          ],
          "name": "stdout"
        }
      ]
    },
    {
      "cell_type": "markdown",
      "metadata": {
        "id": "-thPeKZORJEg",
        "colab_type": "text"
      },
      "source": [
        "5.unique sort problem."
      ]
    },
    {
      "cell_type": "code",
      "metadata": {
        "id": "9geve1sdRa7b",
        "colab_type": "code",
        "colab": {
          "base_uri": "https://localhost:8080/",
          "height": 50
        },
        "outputId": "a1cf7225-0d29-4776-b3c7-69c64ff1a368"
      },
      "source": [
        "items=input(\"enter comma seperated sequence of words: \")\n",
        "words=[word for word in items.split(\",\")]\n",
        "print(\",\".join(sorted(list(set(words)))))"
      ],
      "execution_count": 22,
      "outputs": [
        {
          "output_type": "stream",
          "text": [
            "enter comma seperated sequence of words: orange,white,red,cyan,green,magenta,cyan,pink,white\n",
            "cyan,green,magenta,orange,pink,red,white\n"
          ],
          "name": "stdout"
        }
      ]
    },
    {
      "cell_type": "markdown",
      "metadata": {
        "id": "03J8pyjgdQze",
        "colab_type": "text"
      },
      "source": [
        "6.Tax calculator"
      ]
    },
    {
      "cell_type": "code",
      "metadata": {
        "id": "Mim2snI1dhww",
        "colab_type": "code",
        "colab": {
          "base_uri": "https://localhost:8080/",
          "height": 128
        },
        "outputId": "097ef0bb-3e73-478a-d1f0-889e3af11486"
      },
      "source": [
        "salary=int(input(\"enter income: \"))\n",
        "if salary<=2,50,000:\n",
        "  print(\"nill\")\n",
        "elif salary>=2,50,001 and salary<=5,00,000:\n",
        "  print(\"5 percent\")\n",
        "elif salary>=5,00,001 and salary<=7,50,000:\n",
        "  print(\"10 percent\")\n",
        "elif salary>=7,50,001 and salary<=10,00,000:\n",
        "  print(\"15 percent\")\n",
        "elif salary>=10,00,001 and salary<=12,50,000:\n",
        "  print(\"20 percent\")\n",
        "elif salary>=12,50,001 and salary<=15,00,000:\n",
        "  print(\"25 percent\")\n",
        "else:\n",
        "  print(\"30 percent\")\n"
      ],
      "execution_count": 23,
      "outputs": [
        {
          "output_type": "error",
          "ename": "SyntaxError",
          "evalue": "ignored",
          "traceback": [
            "\u001b[0;36m  File \u001b[0;32m\"<ipython-input-23-a5902b5904a6>\"\u001b[0;36m, line \u001b[0;32m2\u001b[0m\n\u001b[0;31m    if salary<=2,50,000:\u001b[0m\n\u001b[0m                ^\u001b[0m\n\u001b[0;31mSyntaxError\u001b[0m\u001b[0;31m:\u001b[0m invalid syntax\n"
          ]
        }
      ]
    }
  ]
}