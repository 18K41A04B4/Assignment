{
  "nbformat": 4,
  "nbformat_minor": 0,
  "metadata": {
    "colab": {
      "name": "MS 1",
      "provenance": [],
      "authorship_tag": "ABX9TyPPbhgH5l5jRaiEBL+W2/1D",
      "include_colab_link": true
    },
    "kernelspec": {
      "name": "python3",
      "display_name": "Python 3"
    }
  },
  "cells": [
    {
      "cell_type": "markdown",
      "metadata": {
        "id": "view-in-github",
        "colab_type": "text"
      },
      "source": [
        "<a href=\"https://colab.research.google.com/github/18K41A04B4/Assignment/blob/master/MS_1.ipynb\" target=\"_parent\"><img src=\"https://colab.research.google.com/assets/colab-badge.svg\" alt=\"Open In Colab\"/></a>"
      ]
    },
    {
      "cell_type": "markdown",
      "metadata": {
        "id": "SbyWG1_tQTWb"
      },
      "source": [
        "A restaurant owner bought some robot-waiters. All robots serve food from the kitchen (which is in the point (0, 0)) and carry it to some table which is in some point (x, y) in a shortest way. But as these robots are in beta version, they can only do the following moves: turn right and make a step forward or turn left and make a step forward. Initially they look in direction of X-axis. Your task is to calculate for each query the number of moves they will do to reach corresponding table."
      ]
    },
    {
      "cell_type": "code",
      "metadata": {
        "colab": {
          "base_uri": "https://localhost:8080/"
        },
        "id": "syYH6F_3QZOS",
        "outputId": "d8f7a2d2-321d-44b8-f5fb-b320990aaa34"
      },
      "source": [
        "rows,cols=input(\"Enter no. of rows and columns : \").split()\n",
        "m,n=input(\"Enter the location(y x) of table to be served : \").split()\n",
        "cols=int(cols)\n",
        "rows=int(rows)\n",
        "m=int(m)\n",
        "n=int(n)\n",
        "x,y=0,0\n",
        "d=\"x\"\n",
        "steps=0\n",
        "while(True):\n",
        "    if x==n and y==m:\n",
        "        break\n",
        "    if d==\"x\":\n",
        "        if y-1<0:\n",
        "            y=y+1\n",
        "            d=\"y\"\n",
        "            steps=steps+1\n",
        "            print(\"R\", end=\" \")\n",
        "        elif y>=rows :\n",
        "            d=\"-y\"\n",
        "            steps=steps+1\n",
        "            y=y-1\n",
        "            print(\"L\",end=\" \")\n",
        "        else:\n",
        "            if abs(m-(y-1))==min(abs(m-(y-1)),abs(m-(y+1))):\n",
        "                y=y-1\n",
        "                steps=steps+1\n",
        "                d=\"-y\"\n",
        "                print(\"L\",end=\" \")\n",
        "            elif abs(m-(y+1))==min(abs(m-(y-1)),abs(m-(y+1))):\n",
        "                y = y + 1\n",
        "                steps = steps + 1\n",
        "                d = \"y\"\n",
        "                print(\"R\", end=\" \")\n",
        "    elif d== \"y\":\n",
        "        if x - 1 < 0:\n",
        "            x = x + 1\n",
        "            d = \"x\"\n",
        "            steps = steps + 1\n",
        "            print(\"L\", end=\" \")\n",
        "        elif y >= cols:\n",
        "            d = \"-x\"\n",
        "            steps = steps + 1\n",
        "            x = x - 1\n",
        "            print(\"R\", end=\" \")\n",
        "        else:\n",
        "            if abs(n - (x - 1)) == min(abs(n - (x - 1)), abs(n - (x + 1))):\n",
        "                x = x - 1\n",
        "                steps = steps + 1\n",
        "                d = \"-x\"\n",
        "                print(\"R\", end=\" \")\n",
        "            elif abs(n-(x+1)) == min(abs(n-(x-1)), abs(n-(x+1))):\n",
        "                x = x + 1\n",
        "                steps = steps + 1\n",
        "                d = \"x\"\n",
        "                print(\"L\", end=\" \")\n",
        "    elif d== \"-x\":\n",
        "        if y-1<0:\n",
        "            y=y+1\n",
        "            d=\"y\"\n",
        "            steps=steps+1\n",
        "            print(\"L\", end=\" \")\n",
        "        elif y>=rows :\n",
        "            d=\"-y\"\n",
        "            steps=steps+1\n",
        "            y=y-1\n",
        "            print(\"R\",end=\" \")\n",
        "        else:\n",
        "            if abs(m-(y-1))==min(abs(m-(y-1)),abs(m-(y+1))):\n",
        "                y=y-1\n",
        "                steps=steps+1\n",
        "                d=\"-y\"\n",
        "                print(\"R\",end=\" \")\n",
        "            elif abs(m-(y+1))==min(abs(m-(y-1)),abs(m-(y+1))):\n",
        "                y = y + 1\n",
        "                steps = steps + 1\n",
        "                d = \"y\"\n",
        "                print(\"L\", end=\" \")\n",
        "    elif d== \"-y\":\n",
        "        if x - 1 < 0:\n",
        "            x = x + 1\n",
        "            d = \"x\"\n",
        "            steps = steps + 1\n",
        "            print(\"R\", end=\" \")\n",
        "        elif y >= cols:\n",
        "            d = \"-x\"\n",
        "            steps = steps + 1\n",
        "            x = x - 1\n",
        "            print(\"L\", end=\" \")\n",
        "        else:\n",
        "            if abs(n - (x - 1)) == min(abs(n - (x - 1)), abs(n - (x + 1))):\n",
        "                x = x - 1\n",
        "                steps = steps + 1\n",
        "                d = \"-x\"\n",
        "                print(\"L\", end=\" \")\n",
        "            elif abs(n-(x+1)) == min(abs(n-(x-1)), abs(n-(x+1))):\n",
        "                x = x + 1\n",
        "                steps = steps + 1\n",
        "                d = \"x\"\n",
        "                print(\"R\", end=\" \")\n",
        "print(\"\\nno. of steps are \"+str(steps))\n",
        "\n"
      ],
      "execution_count": 4,
      "outputs": [
        {
          "output_type": "stream",
          "text": [
            "Enter no. of rows and columns : 7 8\n",
            "Enter the location(y x) of table to be served : 3 4\n",
            "R L R L R L L R R \n",
            "no. of steps are 9\n"
          ],
          "name": "stdout"
        }
      ]
    }
  ]
}