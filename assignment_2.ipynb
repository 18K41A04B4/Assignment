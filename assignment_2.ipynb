{
  "nbformat": 4,
  "nbformat_minor": 0,
  "metadata": {
    "colab": {
      "name": "assignment 2",
      "provenance": [],
      "authorship_tag": "ABX9TyNPgPsCWdv0LAXYLE/pnZ2p",
      "include_colab_link": true
    },
    "kernelspec": {
      "name": "python3",
      "display_name": "Python 3"
    }
  },
  "cells": [
    {
      "cell_type": "markdown",
      "metadata": {
        "id": "view-in-github",
        "colab_type": "text"
      },
      "source": [
        "<a href=\"https://colab.research.google.com/github/18K41A04B4/Assignment/blob/master/assignment_2.ipynb\" target=\"_parent\"><img src=\"https://colab.research.google.com/assets/colab-badge.svg\" alt=\"Open In Colab\"/></a>"
      ]
    },
    {
      "cell_type": "markdown",
      "metadata": {
        "id": "r-3m5b_f8yJb",
        "colab_type": "text"
      },
      "source": [
        "1.Area of triangle."
      ]
    },
    {
      "cell_type": "code",
      "metadata": {
        "id": "dBLZM7rj9aiK",
        "colab_type": "code",
        "colab": {
          "base_uri": "https://localhost:8080/",
          "height": 84
        },
        "outputId": "6696c337-e37e-45d7-cf60-45fea001c227"
      },
      "source": [
        "a=float(input(\"enter first side: \"))\n",
        "b=float(input(\"enter second side: \"))\n",
        "c=float(input(\"enter third side: \"))\n",
        "s=(a+b+c)/2\n",
        "area=(s*(s-a)*(s-b)*(s-c)) ** (1/2)\n",
        "print(\"area of the triangle =\",area)"
      ],
      "execution_count": null,
      "outputs": [
        {
          "output_type": "stream",
          "text": [
            "enter first side: 5.0\n",
            "enter second side: 6.0\n",
            "enter third side: 7.0\n",
            "area of the triangle = 14.696938456699069\n"
          ],
          "name": "stdout"
        }
      ]
    },
    {
      "cell_type": "markdown",
      "metadata": {
        "id": "Xr8cuKYjAP9V",
        "colab_type": "text"
      },
      "source": [
        "2.palindrome or not.\n"
      ]
    },
    {
      "cell_type": "code",
      "metadata": {
        "id": "GJ46d676AXN2",
        "colab_type": "code",
        "colab": {
          "base_uri": "https://localhost:8080/",
          "height": 50
        },
        "outputId": "22f99436-f147-4d3f-ce98-c6982605c1d0"
      },
      "source": [
        "word = input(\"enter word: \")\n",
        "if word==word[::-1]:\n",
        "  print(word,\"is palindrome\")\n",
        "else:\n",
        "  print(word,\"is not palindrome\")\n",
        " "
      ],
      "execution_count": null,
      "outputs": [
        {
          "output_type": "stream",
          "text": [
            "enter word: malayalam\n",
            "malayalam is palindrome\n"
          ],
          "name": "stdout"
        }
      ]
    },
    {
      "cell_type": "markdown",
      "metadata": {
        "id": "ZlSfH3L-DrUB",
        "colab_type": "text"
      },
      "source": [
        "3.leap year or not.\n"
      ]
    },
    {
      "cell_type": "code",
      "metadata": {
        "id": "bCQxP-ggEC3n",
        "colab_type": "code",
        "colab": {
          "base_uri": "https://localhost:8080/",
          "height": 50
        },
        "outputId": "ebaa5bae-6709-4649-b85a-2f7df0475041"
      },
      "source": [
        "year=int(input(\"enter year: \"))\n",
        "if (year%4==0):\n",
        "  if (year%100==0):\n",
        "    if(year%400==0):\n",
        "      print(year,\"is leap year\")\n",
        "    else:\n",
        "      print(year,\"is not a leap year\")\n",
        "  else:\n",
        "     print(year,\"is leap year\")\n",
        "else:\n",
        "  print(year,\"is not a leap year\")   "
      ],
      "execution_count": null,
      "outputs": [
        {
          "output_type": "stream",
          "text": [
            "enter year: 1900\n",
            "1900 is not a leap year\n"
          ],
          "name": "stdout"
        }
      ]
    },
    {
      "cell_type": "markdown",
      "metadata": {
        "id": "gZm0vsTHKrDk",
        "colab_type": "text"
      },
      "source": [
        "4.space to hyphen problem."
      ]
    },
    {
      "cell_type": "code",
      "metadata": {
        "id": "KRjkjBD3O1Td",
        "colab_type": "code",
        "colab": {
          "base_uri": "https://localhost:8080/",
          "height": 50
        },
        "outputId": "82214904-a5e9-4ce7-c5d1-90c594fd7752"
      },
      "source": [
        "str1=input(\"enter sentence: \")\n",
        "str2=str1.replace(' ','-')\n",
        "print(str2)\n"
      ],
      "execution_count": null,
      "outputs": [
        {
          "output_type": "stream",
          "text": [
            "enter sentence: This program converts spaces into hyphen\n",
            "This-program-converts-spaces-into-hyphen\n"
          ],
          "name": "stdout"
        }
      ]
    },
    {
      "cell_type": "markdown",
      "metadata": {
        "id": "-thPeKZORJEg",
        "colab_type": "text"
      },
      "source": [
        "5.unique sort problem."
      ]
    },
    {
      "cell_type": "code",
      "metadata": {
        "id": "9geve1sdRa7b",
        "colab_type": "code",
        "colab": {
          "base_uri": "https://localhost:8080/",
          "height": 50
        },
        "outputId": "a1cf7225-0d29-4776-b3c7-69c64ff1a368"
      },
      "source": [
        "items=input(\"enter comma seperated sequence of words: \")\n",
        "words=[word for word in items.split(\",\")]\n",
        "print(\",\".join(sorted(list(set(words)))))"
      ],
      "execution_count": null,
      "outputs": [
        {
          "output_type": "stream",
          "text": [
            "enter comma seperated sequence of words: orange,white,red,cyan,green,magenta,cyan,pink,white\n",
            "cyan,green,magenta,orange,pink,red,white\n"
          ],
          "name": "stdout"
        }
      ]
    },
    {
      "cell_type": "markdown",
      "metadata": {
        "id": "03J8pyjgdQze",
        "colab_type": "text"
      },
      "source": [
        "6.Tax calculator"
      ]
    },
    {
      "cell_type": "code",
      "metadata": {
        "id": "Mim2snI1dhww",
        "colab_type": "code",
        "colab": {
          "base_uri": "https://localhost:8080/",
          "height": 50
        },
        "outputId": "46eaeb80-2fa4-449b-a143-e541c006e573"
      },
      "source": [
        "salary=int(input(\"enter income: \"))\n",
        "if salary<=250000:\n",
        "  print(\"nill\")\n",
        "elif salary>=250001 and salary<=500000:\n",
        "  tax=salary*(5/100)\n",
        "  print(tax)\n",
        "elif salary>=500001 and salary<=750000:\n",
        "  tax=salary*(10/100)\n",
        "  print(tax)\n",
        "elif salary>=750001 and salary<=1000000:\n",
        "  tax=salary*(15/100)\n",
        "  print(tax)\n",
        "elif salary>=1000001 and salary<=1250000:\n",
        "  tax=salary*(20/100)\n",
        "  print(tax)\n",
        "elif salary>=1250001 and salary<=1500000:\n",
        "  tax=salary*(25/100)\n",
        "  print(tax)\n",
        "else:\n",
        "  tax=salary*(30/100)\n",
        "  print(tax)\n"
      ],
      "execution_count": null,
      "outputs": [
        {
          "output_type": "stream",
          "text": [
            "enter income: 3500000\n",
            "1050000.0\n"
          ],
          "name": "stdout"
        }
      ]
    },
    {
      "cell_type": "markdown",
      "metadata": {
        "id": "_sDlaWO3ibnc",
        "colab_type": "text"
      },
      "source": [
        "7.Take a list of integers as an argument,and converts it into a single integer."
      ]
    },
    {
      "cell_type": "code",
      "metadata": {
        "id": "oBnnuxR7iso9",
        "colab_type": "code",
        "colab": {
          "base_uri": "https://localhost:8080/",
          "height": 34
        },
        "outputId": "7dfc7981-4180-4642-8cdc-ffe8b7cb2a0b"
      },
      "source": [
        "list=[11,33,50]\n",
        "for i in list:\n",
        "  print(i,end=\"\")\n"
      ],
      "execution_count": null,
      "outputs": [
        {
          "output_type": "stream",
          "text": [
            "113350"
          ],
          "name": "stdout"
        }
      ]
    },
    {
      "cell_type": "markdown",
      "metadata": {
        "id": "3AFoVyb9kkjf",
        "colab_type": "text"
      },
      "source": [
        "8.units of time."
      ]
    },
    {
      "cell_type": "code",
      "metadata": {
        "id": "IiHYFtlUkssn",
        "colab_type": "code",
        "colab": {
          "base_uri": "https://localhost:8080/",
          "height": 101
        },
        "outputId": "8af878bb-29c0-4463-a94b-9b8bfcbf08fb"
      },
      "source": [
        "seconds_per_minute = 60\n",
        "seconds_per_hour = 3600\n",
        "seconds_per_day = 86400\n",
        "days=int(input(\"Enter number of Days : \"))\n",
        "hours=int(input(\"Enter number of Hours : \"))\n",
        "minutes=int(input(\"Enter number of Minutes : \"))\n",
        "seconds=int(input(\"Enter number of Seconds : \"))\n",
        "total_seconds=days*seconds_per_day\n",
        "total_seconds=total_seconds+(hours*seconds_per_hour)\n",
        "total_seconds=total_seconds+(minutes*seconds_per_minute)\n",
        "total_seconds=total_seconds+seconds\n",
        "print(\"Total number of seconds :\",total_seconds)"
      ],
      "execution_count": null,
      "outputs": [
        {
          "output_type": "stream",
          "text": [
            "Enter number of Days : 20\n",
            "Enter number of Hours : 5\n",
            "Enter number of Minutes : 30\n",
            "Enter number of Seconds : 60\n",
            "Total number of seconds : 1747860\n"
          ],
          "name": "stdout"
        }
      ]
    },
    {
      "cell_type": "markdown",
      "metadata": {
        "id": "2-K7P9xBn8Ij",
        "colab_type": "text"
      },
      "source": [
        "9.sort 3 integers.\n"
      ]
    },
    {
      "cell_type": "code",
      "metadata": {
        "id": "46KXKCBdoD2E",
        "colab_type": "code",
        "colab": {
          "base_uri": "https://localhost:8080/",
          "height": 84
        },
        "outputId": "cf7f34d6-f6df-4499-ca08-ec4c06f0931c"
      },
      "source": [
        "x=int(input(\"enter first nymber\"))\n",
        "y=int(input(\"enter second number\"))\n",
        "z=int(input(\"enter third number\"))\n",
        "a=min(x,y,z)\n",
        "b=max(x,y,z)\n",
        "c=(x+y+z)-a-b\n",
        "print(\"sorted order=\",a,c,b)\n"
      ],
      "execution_count": null,
      "outputs": [
        {
          "output_type": "stream",
          "text": [
            "enter first nymber10\n",
            "enter second number8\n",
            "enter third number9\n",
            "sorted order= 8 9 10\n"
          ],
          "name": "stdout"
        }
      ]
    },
    {
      "cell_type": "markdown",
      "metadata": {
        "id": "AsxTA1_UqWmF",
        "colab_type": "text"
      },
      "source": [
        "10.Immediate successor of the date."
      ]
    },
    {
      "cell_type": "code",
      "metadata": {
        "id": "oDzYtjCRrA-_",
        "colab_type": "code",
        "colab": {
          "base_uri": "https://localhost:8080/",
          "height": 84
        },
        "outputId": "65002925-f7d1-4dd8-dcdb-be2b24a5258e"
      },
      "source": [
        "year = int(input(\"Input a year: \"))\n",
        "if (year % 400 == 0):\n",
        "    leap_year = True\n",
        "elif (year % 100 == 0):\n",
        "    leap_year = False\n",
        "elif (year % 4 == 0):\n",
        "    leap_year = True\n",
        "else:\n",
        "    leap_year = False\n",
        "month = int(input(\"Input a month : \"))\n",
        "if month in (1, 3, 5, 7, 8, 10, 12):\n",
        "    month_length = 31\n",
        "elif month == 2:\n",
        "    if leap_year:\n",
        "        month_length = 29\n",
        "    else:\n",
        "        month_length = 28\n",
        "else:\n",
        "    month_length = 30\n",
        "day = int(input(\"Input a day : \"))\n",
        "\n",
        "if day < month_length:\n",
        "    day += 1\n",
        "else:\n",
        "    day = 1\n",
        "    if month == 12:\n",
        "        month = 1\n",
        "        year += 1\n",
        "    else:\n",
        "        month += 1\n",
        "print(\"The next date is [yyyy-mm-dd] %d-%d-%d.\" % (year, month, day))"
      ],
      "execution_count": null,
      "outputs": [
        {
          "output_type": "stream",
          "text": [
            "Input a year: 2000\n",
            "Input a month : 12\n",
            "Input a day : 21\n",
            "The next date is [yyyy-mm-dd] 2000-12-22.\n"
          ],
          "name": "stdout"
        }
      ]
    },
    {
      "cell_type": "markdown",
      "metadata": {
        "id": "jyISahONrh9G",
        "colab_type": "text"
      },
      "source": [
        "11.Product of list of numbers."
      ]
    },
    {
      "cell_type": "code",
      "metadata": {
        "id": "D1RDkAgftAAK",
        "colab_type": "code",
        "colab": {
          "base_uri": "https://localhost:8080/",
          "height": 34
        },
        "outputId": "6044be9a-41ad-4633-9607-fd432a72999c"
      },
      "source": [
        "def multiplyList(myList) :  \n",
        "    result = 1\n",
        "    for x in myList: \n",
        "         result = result * x  \n",
        "    return result  \n",
        "list = [45,3,2,89,72,1,10,7]  \n",
        "print(multiplyList(list))"
      ],
      "execution_count": null,
      "outputs": [
        {
          "output_type": "stream",
          "text": [
            "121111200\n"
          ],
          "name": "stdout"
        }
      ]
    },
    {
      "cell_type": "markdown",
      "metadata": {
        "id": "CQ2wZfngtGwk",
        "colab_type": "text"
      },
      "source": [
        "12.compute given number list to get desired output."
      ]
    },
    {
      "cell_type": "code",
      "metadata": {
        "id": "dzSwi3L-tSMS",
        "colab_type": "code",
        "colab": {
          "base_uri": "https://localhost:8080/",
          "height": 34
        },
        "outputId": "83d9d67d-0e37-4099-f416-ab0a73856f48"
      },
      "source": [
        "l=[5,6,8,34,89,1]\n",
        "Out_list=[]\n",
        "for i in range(len(l)-1):\n",
        "    ol=l[i]+l[i+1]\n",
        "    Out_list.append(ol)\n",
        "print(\"Out_list=\",Out_list)"
      ],
      "execution_count": null,
      "outputs": [
        {
          "output_type": "stream",
          "text": [
            "Out_list= [11, 14, 42, 123, 90]\n"
          ],
          "name": "stdout"
        }
      ]
    },
    {
      "cell_type": "markdown",
      "metadata": {
        "id": "tH3WmCHRtgCB",
        "colab_type": "text"
      },
      "source": [
        "13.compute given number tuple to get the desired output."
      ]
    },
    {
      "cell_type": "code",
      "metadata": {
        "id": "dogGRDh3ttH9",
        "colab_type": "code",
        "colab": {
          "base_uri": "https://localhost:8080/",
          "height": 34
        },
        "outputId": "b493c2ed-4073-4c87-fc4c-28ff4fcc3939"
      },
      "source": [
        "n=(5,6,8,3,9,1)\n",
        "Out_list=[]\n",
        "Out_list.append(n[0])\n",
        "for i in range(len(n)-1):\n",
        "    m=Out_list[i]*n[i+1]\n",
        "    Out_list.append(m)\n",
        "print(\"Out_list=\",Out_list)"
      ],
      "execution_count": null,
      "outputs": [
        {
          "output_type": "stream",
          "text": [
            "Out_list= [5, 30, 240, 720, 6480, 6480]\n"
          ],
          "name": "stdout"
        }
      ]
    },
    {
      "cell_type": "markdown",
      "metadata": {
        "id": "2Lde68sntt1g",
        "colab_type": "text"
      },
      "source": [
        "14.Write a python program that takes a number and returns a list of its digits.so for 586392 it should return [5,8,6,3,9,2]"
      ]
    },
    {
      "cell_type": "code",
      "metadata": {
        "id": "lFqfeynrui6m",
        "colab_type": "code",
        "colab": {
          "base_uri": "https://localhost:8080/",
          "height": 50
        },
        "outputId": "16d2c496-81fb-4448-ee18-a8b57221d695"
      },
      "source": [
        "number=int(input(\"enter number: \"))\n",
        "c = str(number)\n",
        "int_list=[]\n",
        "for i in range(len(c)):\n",
        "  int_list.append(int(c[i]))\n",
        "print(int_list)"
      ],
      "execution_count": null,
      "outputs": [
        {
          "output_type": "stream",
          "text": [
            "enter number: 586392\n",
            "[5, 8, 6, 3, 9, 2]\n"
          ],
          "name": "stdout"
        }
      ]
    },
    {
      "cell_type": "markdown",
      "metadata": {
        "id": "mxzOepDbwLu7",
        "colab_type": "text"
      },
      "source": [
        "15.Write a program that finds the longest palindrome substring of a given number."
      ]
    },
    {
      "cell_type": "code",
      "metadata": {
        "id": "7rwrRTtiwez7",
        "colab_type": "code",
        "colab": {
          "base_uri": "https://localhost:8080/",
          "height": 34
        },
        "outputId": "e202e9db-254b-4c42-8319-d7956ba4bc1a"
      },
      "source": [
        "class Solution(object):\n",
        "   def longestPalindrome(self, s):\n",
        "      dp = [[False for i in range(len(s))] for i in range(len(s))]\n",
        "      for i in range(len(s)):\n",
        "         dp[i][i] = True\n",
        "      max_length = 1\n",
        "      start = 0\n",
        "      for l in range(2,len(s)+1):\n",
        "         for i in range(len(s)-l+1):\n",
        "            end = i+l\n",
        "            if l==2:\n",
        "               if s[i] == s[end-1]:\n",
        "                  dp[i][end-1]=True\n",
        "                  max_length = l\n",
        "                  start = i\n",
        "            else:\n",
        "               if s[i] == s[end-1] and dp[i+1][end-2]:\n",
        "                  dp[i][end-1]=True\n",
        "                  max_length = l\n",
        "                  start = i\n",
        "      return s[start:start+max_length]\n",
        "ob1 = Solution()\n",
        "print(ob1.longestPalindrome(\"cdehhgduuduudgh\"))"
      ],
      "execution_count": null,
      "outputs": [
        {
          "output_type": "stream",
          "text": [
            "hgduuduudgh\n"
          ],
          "name": "stdout"
        }
      ]
    },
    {
      "cell_type": "markdown",
      "metadata": {
        "id": "Rbs2S3O0y0s6",
        "colab_type": "text"
      },
      "source": [
        "16.Substring check(bug funny)"
      ]
    },
    {
      "cell_type": "code",
      "metadata": {
        "id": "D-J-KlPcz6ZB",
        "colab_type": "code",
        "colab": {
          "base_uri": "https://localhost:8080/",
          "height": 67
        },
        "outputId": "ea968cad-eca1-41c5-c4c0-0f40ea1d0231"
      },
      "source": [
        "a=input(\"enter string 1: \")\n",
        "b=input(\"enter string 2: \")\n",
        "print(a.count(b))"
      ],
      "execution_count": null,
      "outputs": [
        {
          "output_type": "stream",
          "text": [
            "enter string 1: 1010110010\n",
            "enter string 2: 10110\n",
            "1\n"
          ],
          "name": "stdout"
        }
      ]
    },
    {
      "cell_type": "code",
      "metadata": {
        "colab_type": "code",
        "id": "xuy1AW6g1pih",
        "colab": {
          "base_uri": "https://localhost:8080/",
          "height": 67
        },
        "outputId": "45016a45-8b2c-447a-d7e6-d9e00fe306df"
      },
      "source": [
        "a=input(\"enter string 1: \")\n",
        "b=input(\"enter string 2: \")\n",
        "print(a.count(b))"
      ],
      "execution_count": null,
      "outputs": [
        {
          "output_type": "stream",
          "text": [
            "enter string 1: 110111011\n",
            "enter string 2: 10011\n",
            "0\n"
          ],
          "name": "stdout"
        }
      ]
    },
    {
      "cell_type": "markdown",
      "metadata": {
        "id": "VsfPwtE61zez",
        "colab_type": "text"
      },
      "source": [
        "17.Pour1-pouring water"
      ]
    },
    {
      "cell_type": "code",
      "metadata": {
        "id": "e0orQz7p9RM6",
        "colab_type": "code",
        "colab": {
          "base_uri": "https://localhost:8080/",
          "height": 168
        },
        "outputId": "57c5ed65-d173-45b4-ed97-6a7a09f90f0f"
      },
      "source": [
        "def gcd(a,b):\n",
        "    if b==0: \n",
        "        return a \n",
        "    return gcd(b,a%b) \n",
        "def countsteps(a,b,c): \n",
        "    v1=b\n",
        "    v2=0\n",
        "    count=1\n",
        "    while ((v1 is not c) and (v2 is not c)): \n",
        "        temp=min(v1,a-v2) \n",
        "        v2=v2+temp \n",
        "        v1=v1-temp \n",
        "        count=count+1\n",
        "        if ((v2==c)or(v1==c)): \n",
        "            break\n",
        "        if v1==0: \n",
        "            v1=b \n",
        "            count=count+1\n",
        "        if v2==a: \n",
        "            v2=0\n",
        "            count=count+1\n",
        "    return count \n",
        "def ispossible(a,b,c): \n",
        "    if a>b: \n",
        "        temp=a \n",
        "        a=b \n",
        "        b=temp \n",
        "    if c>b: \n",
        "        return -1\n",
        "    if (c%(gcd(b,a)) is not 0): \n",
        "        return -1\n",
        "    return(min(countsteps(b,a,c),countsteps(a,b,c)))\n",
        "t=int(input(\"Enter no of testcases : \"))\n",
        "for i in range(t):\n",
        "  a=int(input(\"Enter capacity of vessel a : \"))\n",
        "  b=int(input(\"Enter capacity of vessel b : \"))\n",
        "  c=int(input(\"Enter capacity to be obtained :\"))\n",
        "  print(\"Minimum number of steps required is : \",ispossible(a,b,c))"
      ],
      "execution_count": null,
      "outputs": [
        {
          "output_type": "stream",
          "text": [
            "Enter no of testcases : 2\n",
            "Enter capacity of vessel a : 5\n",
            "Enter capacity of vessel b : 2\n",
            "Enter capacity to be obtained :3\n",
            "Minimum number of steps required is :  2\n",
            "Enter capacity of vessel a : 2\n",
            "Enter capacity of vessel b : 3\n",
            "Enter capacity to be obtained :4\n",
            "Minimum number of steps required is :  -1\n"
          ],
          "name": "stdout"
        }
      ]
    }
  ]
}