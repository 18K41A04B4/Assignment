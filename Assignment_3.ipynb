{
  "nbformat": 4,
  "nbformat_minor": 0,
  "metadata": {
    "colab": {
      "name": "Assignment 3",
      "provenance": [],
      "authorship_tag": "ABX9TyP0uU55rwusOlTomLP+Cj1x",
      "include_colab_link": true
    },
    "kernelspec": {
      "name": "python3",
      "display_name": "Python 3"
    }
  },
  "cells": [
    {
      "cell_type": "markdown",
      "metadata": {
        "id": "view-in-github",
        "colab_type": "text"
      },
      "source": [
        "<a href=\"https://colab.research.google.com/github/18K41A04B4/Assignment/blob/master/Assignment_3.ipynb\" target=\"_parent\"><img src=\"https://colab.research.google.com/assets/colab-badge.svg\" alt=\"Open In Colab\"/></a>"
      ]
    },
    {
      "cell_type": "markdown",
      "metadata": {
        "id": "no-b4Pc-sTP2",
        "colab_type": "text"
      },
      "source": [
        "1.Read mobile dataset using pandas, and preprocess it (fill null values)"
      ]
    },
    {
      "cell_type": "code",
      "metadata": {
        "id": "bCIYhfpUsS2n",
        "colab_type": "code",
        "colab": {}
      },
      "source": [
        ""
      ],
      "execution_count": null,
      "outputs": []
    },
    {
      "cell_type": "markdown",
      "metadata": {
        "id": "mECWfURSrlNr",
        "colab_type": "text"
      },
      "source": [
        "2. Draw correlation graph for mobile price with all attributes."
      ]
    },
    {
      "cell_type": "code",
      "metadata": {
        "id": "1448E_4srk1S",
        "colab_type": "code",
        "colab": {}
      },
      "source": [
        ""
      ],
      "execution_count": null,
      "outputs": []
    },
    {
      "cell_type": "markdown",
      "metadata": {
        "id": "YdijuVWPrEoY",
        "colab_type": "text"
      },
      "source": [
        "3.Compute outer product of 2 vectors. Eg: original matrix: [[1, 0], [0, 1]] [[1, 2], [3, 4]] Outer product of the said two vectors: [[1 2 3 4] [0 0 0 0] [0 0 0 0] [1 2 3 4]]"
      ]
    },
    {
      "cell_type": "code",
      "metadata": {
        "id": "Ro5jDNbNrERb",
        "colab_type": "code",
        "colab": {
          "base_uri": "https://localhost:8080/",
          "height": 151
        },
        "outputId": "373464f2-0acc-4b45-d173-1b9a58bcd1a7"
      },
      "source": [
        "import numpy as np\n",
        "p = [[1, 0], [0, 1]]\n",
        "q = [[1, 2], [3, 4]]\n",
        "print(\"original matrix:\")\n",
        "print(p)\n",
        "print(q)\n",
        "result = np.outer(p, q)\n",
        "print(\"Outer product of the said two vectors:\")\n",
        "print(result)"
      ],
      "execution_count": 6,
      "outputs": [
        {
          "output_type": "stream",
          "text": [
            "original matrix:\n",
            "[[1, 0], [0, 1]]\n",
            "[[1, 2], [3, 4]]\n",
            "Outer product of the said two vectors:\n",
            "[[1 2 3 4]\n",
            " [0 0 0 0]\n",
            " [0 0 0 0]\n",
            " [1 2 3 4]]\n"
          ],
          "name": "stdout"
        }
      ]
    },
    {
      "cell_type": "markdown",
      "metadata": {
        "id": "478LzawopwA7",
        "colab_type": "text"
      },
      "source": [
        "4. Write a NumPy program to compute the condition number of a given matrix. Original matrix: [[1 2] [3 4]]\n",
        "Condition number of the said matrix:14.9330343737 \n",
        "\n"
      ]
    },
    {
      "cell_type": "code",
      "metadata": {
        "id": "sA1pQRXXpvhj",
        "colab_type": "code",
        "colab": {
          "base_uri": "https://localhost:8080/",
          "height": 101
        },
        "outputId": "5a288a3f-8a3a-47cd-a1eb-2fa9becb7c62"
      },
      "source": [
        "import numpy as np\n",
        "m = np.array([[1,2],[3,4]])\n",
        "print(\"Original matrix:\")\n",
        "print(m)\n",
        "result =  np.linalg.cond(m)\n",
        "print(\"Condition number of the said matrix:\")\n",
        "print(result)"
      ],
      "execution_count": 5,
      "outputs": [
        {
          "output_type": "stream",
          "text": [
            "Original matrix:\n",
            "[[1 2]\n",
            " [3 4]]\n",
            "Condition number of the said matrix:\n",
            "14.933034373659268\n"
          ],
          "name": "stdout"
        }
      ]
    },
    {
      "cell_type": "markdown",
      "metadata": {
        "id": "JNIdje64pFRS",
        "colab_type": "text"
      },
      "source": [
        "5. write a NumPy program to compute the sum of the diagonal element of a given array(matrix).\n",
        "\n",
        "\n",
        "\n"
      ]
    },
    {
      "cell_type": "code",
      "metadata": {
        "id": "8RQZ9FdTo8yb",
        "colab_type": "code",
        "colab": {
          "base_uri": "https://localhost:8080/",
          "height": 101
        },
        "outputId": "5c266f52-b08e-430d-b22f-cd1f9d62d00a"
      },
      "source": [
        "import numpy as np\n",
        "m = np.arange(8).reshape(2,4)\n",
        "print(\"Original matrix:\")\n",
        "print(m)\n",
        "result =  np.trace(m)\n",
        "print(\"Condition number of the said matrix:\")\n",
        "print(result)"
      ],
      "execution_count": 4,
      "outputs": [
        {
          "output_type": "stream",
          "text": [
            "Original matrix:\n",
            "[[0 1 2 3]\n",
            " [4 5 6 7]]\n",
            "Condition number of the said matrix:\n",
            "5\n"
          ],
          "name": "stdout"
        }
      ]
    }
  ]
}